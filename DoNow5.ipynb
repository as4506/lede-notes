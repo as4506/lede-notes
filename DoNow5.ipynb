{
 "cells": [
  {
   "cell_type": "markdown",
   "metadata": {},
   "source": [
    "Do Now\n",
    "Wednesday, June 10, 2015\n",
    "\n",
    "Reviewing: **dictionaries, lists, CSVs**\n",
    "\n"
   ]
  },
  {
   "cell_type": "markdown",
   "metadata": {},
   "source": [
    "###1) What's the output of the following lines?"
   ]
  },
  {
   "cell_type": "code",
   "execution_count": 1,
   "metadata": {
    "collapsed": false
   },
   "outputs": [
    {
     "name": "stdout",
     "output_type": "stream",
     "text": [
      "hello name\n",
      "hello Max\n"
     ]
    }
   ],
   "source": [
    "name = \"Max\"\n",
    "print \"hello\", \"name\"\n",
    "print \"hello\", name"
   ]
  },
  {
   "cell_type": "markdown",
   "metadata": {},
   "source": [
    "The first line prints two strings in a row.\n",
    "The second print line prints the string \"hello\", and calls up the previous variable we have defined as \"Max\"."
   ]
  },
  {
   "cell_type": "markdown",
   "metadata": {},
   "source": [
    "###2) What is the output of the following code? Which lines give you errors?"
   ]
  },
  {
   "cell_type": "code",
   "execution_count": 12,
   "metadata": {
    "collapsed": false
   },
   "outputs": [
    {
     "name": "stdout",
     "output_type": "stream",
     "text": [
      "Manhattan\n",
      "500\n",
      "Manhattan\n"
     ]
    }
   ],
   "source": [
    "borough_name = 'Manhattan'\n",
    "z = [ 'Manhattan', 'Queens' ]\n",
    "x = { 'borough_name': 'Manhattan', 'population': 500 }\n",
    "y = {\n",
    "'Manhattan': 500,\n",
    "'Queens': 200\n",
    "}\n",
    "\n",
    "print x['borough_name']\n",
    "#print x[borough_name]\n",
    "#print x[0]\n",
    "#print y['borough_name']\n",
    "print y[borough_name]\n",
    "#print y[0]\n",
    "#print z['borough_name']\n",
    "#print z[borough_name]\n",
    "print z[0]"
   ]
  },
  {
   "cell_type": "markdown",
   "metadata": {},
   "source": [
    "`print x['borough_name']` works because the list x has a key labeled \"borough_name\", and it prints the key associated with that entry. `print y[borough_name]` works because the y list has a key that matches the defined variable \"borough_name\", in this case, \"Manhattan\"; as a result, it prints the key, which is 500. `print z[0]` works because list z has an element in the 0 spot, or the beginning of the list; it prints whatever element is in this place, which in this case is \"Manhattan\"."
   ]
  },
  {
   "cell_type": "markdown",
   "metadata": {},
   "source": [
    "###3) We have a list called numbers, but we had an off-by-one error: add one to every element of the list, then sum the results. Do this in one line."
   ]
  },
  {
   "cell_type": "code",
   "execution_count": 13,
   "metadata": {
    "collapsed": false
   },
   "outputs": [
    {
     "name": "stdout",
     "output_type": "stream",
     "text": [
      "20\n"
     ]
    }
   ],
   "source": [
    "numbers = [1, 2, 3, 4, 5]\n",
    "print sum([num + 1 for num in numbers])"
   ]
  },
  {
   "cell_type": "markdown",
   "metadata": {},
   "source": [
    "This is list comprehension; `for num in numbers` cycles through each element in the list, while `num + 1` adds one to each of those elements. The `sum` function sums the result of this list comprehension."
   ]
  },
  {
   "cell_type": "markdown",
   "metadata": {},
   "source": [
    "###4a) Given the following, write code to calculate how many murders we have in total.\n",
    "\n",
    "murders = { 'Albany': 23, 'Kings County': 10, 'Rochester': 7, 'Yonkers: 9 }"
   ]
  },
  {
   "cell_type": "code",
   "execution_count": 16,
   "metadata": {
    "collapsed": false
   },
   "outputs": [
    {
     "name": "stdout",
     "output_type": "stream",
     "text": [
      "49\n"
     ]
    }
   ],
   "source": [
    "\n",
    "murders = {\n",
    "\t\"Albany\": 23,\n",
    "\t\"Kings County\": 10,\n",
    "\t\"Rochester\": 7,\n",
    "\t\"Yonkers\": 9\n",
    "}\n",
    "\n",
    "total = 0\n",
    "for county in murders.keys():\n",
    "    total =  total + murders[county]\n",
    "print total"
   ]
  },
  {
   "cell_type": "markdown",
   "metadata": {},
   "source": [
    "`for county in murders.keys()` cycles through each key in the `murders` list; each time, the `total =  total + murders[county]` line adds the value associated with each key to the `total` variable. After this loop cycles through each county in the dictionary, the `total` variable will be the total murders."
   ]
  },
  {
   "cell_type": "markdown",
   "metadata": {},
   "source": [
    "###4b) Write code to calculate the percentage of the murders happened in Kings County."
   ]
  },
  {
   "cell_type": "code",
   "execution_count": 15,
   "metadata": {
    "collapsed": false
   },
   "outputs": [
    {
     "data": {
      "text/plain": [
       "20.408163265306122"
      ]
     },
     "execution_count": 15,
     "metadata": {},
     "output_type": "execute_result"
    }
   ],
   "source": [
    "float(murders[\"Kings County\"]) / total * 100"
   ]
  },
  {
   "cell_type": "markdown",
   "metadata": {},
   "source": [
    "At least one side of the divisor must be a float, which in this case is given by the `float()` function. Inside this function is the list `murders`, which is given \"Kings County\" as the key to look for; it returns 10, which is divided by `total`, which was created in the last question and equals 49."
   ]
  },
  {
   "cell_type": "code",
   "execution_count": null,
   "metadata": {
    "collapsed": true
   },
   "outputs": [],
   "source": []
  }
 ],
 "metadata": {
  "kernelspec": {
   "display_name": "Python 2",
   "language": "python",
   "name": "python2"
  },
  "language_info": {
   "codemirror_mode": {
    "name": "ipython",
    "version": 2
   },
   "file_extension": ".py",
   "mimetype": "text/x-python",
   "name": "python",
   "nbconvert_exporter": "python",
   "pygments_lexer": "ipython2",
   "version": "2.7.9"
  }
 },
 "nbformat": 4,
 "nbformat_minor": 0
}
