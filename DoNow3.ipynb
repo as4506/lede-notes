{
 "cells": [
  {
   "cell_type": "markdown",
   "metadata": {},
   "source": [
    "￼Do Now\n",
    "Wednesday, June 3, 2015\n",
    "Reviewing: **conditionals, dictionaries, lists**"
   ]
  },
  {
   "cell_type": "markdown",
   "metadata": {},
   "source": [
    "###1) What two errors can you spot below?"
   ]
  },
  {
   "cell_type": "code",
   "execution_count": null,
   "metadata": {
    "collapsed": true
   },
   "outputs": [],
   "source": [
    "n=2; if n < 2:\n",
    "print \"Small\" elif n = 2:\n",
    "print \"Medium\" else print \"Large\""
   ]
  },
  {
   "cell_type": "markdown",
   "metadata": {},
   "source": [
    "1) no semi-colon after n=2, and 2) elif and else should be there own lines, and 3) \"elif n = 2\" should read \"elif n == 2"
   ]
  },
  {
   "cell_type": "code",
   "execution_count": 5,
   "metadata": {
    "collapsed": false
   },
   "outputs": [
    {
     "name": "stdout",
     "output_type": "stream",
     "text": [
      "Medium\n"
     ]
    }
   ],
   "source": [
    "n = 2 \n",
    "if n < 2:\n",
    "    print \"Small\" \n",
    "elif n == 2:\n",
    "    print \"Medium\"\n",
    "else:\n",
    "    print \"Large\""
   ]
  },
  {
   "cell_type": "markdown",
   "metadata": {},
   "source": [
    "###2) Given the following code, '11238' is a _____ and 23 is a _________.\n",
    "`{ '11238': 23, '10011': 47 }`"
   ]
  },
  {
   "cell_type": "markdown",
   "metadata": {},
   "source": [
    "This is a dictionary, so it is structured as a \"key\": value. 11238 is a key, and 23 is a value."
   ]
  },
  {
   "cell_type": "markdown",
   "metadata": {},
   "source": [
    "###3) How would you add a 'low' of 54 to the following dictionary?\n",
    "\n",
    "`weather = { 'high': 66, 'appearance': 'cloudy' }`"
   ]
  },
  {
   "cell_type": "code",
   "execution_count": 7,
   "metadata": {
    "collapsed": false
   },
   "outputs": [
    {
     "name": "stdout",
     "output_type": "stream",
     "text": [
      "{'high': 66, 'appearance': 'cloudy', 'low': 54}\n"
     ]
    }
   ],
   "source": [
    "weather = { 'high': 66, 'appearance': 'cloudy' }\n",
    "weather['low'] = 54\n",
    "print weather\n"
   ]
  },
  {
   "cell_type": "markdown",
   "metadata": {},
   "source": [
    "To add a key and value to a dictionary, type: dictname['key'] = value"
   ]
  },
  {
   "cell_type": "markdown",
   "metadata": {},
   "source": [
    "###4) How can we easily get the total of the list below? How about a count of how many elements are in the list?\n",
    "`numbers = [ 1, 2, 3, 4, 5, 6, 7]`"
   ]
  },
  {
   "cell_type": "code",
   "execution_count": 13,
   "metadata": {
    "collapsed": false
   },
   "outputs": [
    {
     "name": "stdout",
     "output_type": "stream",
     "text": [
      "28\n",
      "7\n"
     ]
    }
   ],
   "source": [
    "numbers = [ 1, 2, 3, 4, 5, 6, 7]\n",
    "\n",
    "print sum(numbers)\n",
    "\n",
    "print len(numbers)"
   ]
  },
  {
   "cell_type": "markdown",
   "metadata": {},
   "source": [
    "The function sum() totals a list; all list items must be integers, or else it will result in an error. len() will count the number of items in a list, including strings."
   ]
  },
  {
   "cell_type": "markdown",
   "metadata": {},
   "source": [
    "###5) Print the 3rd element of a list named dogs (subbing in numbers list)"
   ]
  },
  {
   "cell_type": "code",
   "execution_count": 14,
   "metadata": {
    "collapsed": false
   },
   "outputs": [
    {
     "name": "stdout",
     "output_type": "stream",
     "text": [
      "3\n"
     ]
    }
   ],
   "source": [
    "print numbers[2]"
   ]
  },
  {
   "cell_type": "markdown",
   "metadata": {},
   "source": [
    "To select a specific item in a list, `listname[#]` where # equals the element in a list. Elements are off by one, so the first element is 0, the second is 1, and so on."
   ]
  },
  {
   "cell_type": "markdown",
   "metadata": {},
   "source": [
    "###5a) Given the following dictionary, how can we get a list of all three ZIP codes?\n",
    "`data = { '11238': 23, '10011': 47, '10011': 10 }`"
   ]
  },
  {
   "cell_type": "code",
   "execution_count": 17,
   "metadata": {
    "collapsed": false
   },
   "outputs": [
    {
     "name": "stdout",
     "output_type": "stream",
     "text": [
      "['11238', '10012', '10011']\n",
      "['11238', '10012', '10011']\n"
     ]
    }
   ],
   "source": [
    "data = { '11238': 23, '10011': 47, '10012': 10 }\n",
    "\n",
    "zip_list = []\n",
    "\n",
    "for zip in data:\n",
    "    zip_list.append(zip)\n",
    "print zip_list\n",
    "\n",
    "#or\n",
    "\n",
    "zip_list2 = [zip for zip in data]\n",
    "\n",
    "print zip_list2"
   ]
  },
  {
   "cell_type": "markdown",
   "metadata": {},
   "source": [
    "There are two methods to return a list of keys from a dictionary: with a for loop, or with dictionary comprehension.\n",
    "\n",
    "The for loop method cycles through the keys in the dictionary, and appends them to a new list.\n",
    "\n",
    "The dictionary comprehension method is structured: listname = [key for key in list]. It could be changed to return a specific key only: listname = [key[\"key_string\"] for key in list]."
   ]
  },
  {
   "cell_type": "markdown",
   "metadata": {},
   "source": [
    "###5b) Write a for loop that prints all three zip codes on separate lines."
   ]
  },
  {
   "cell_type": "code",
   "execution_count": 18,
   "metadata": {
    "collapsed": false
   },
   "outputs": [
    {
     "name": "stdout",
     "output_type": "stream",
     "text": [
      "11238\n",
      "10012\n",
      "10011\n"
     ]
    }
   ],
   "source": [
    "for zip in data:\n",
    "    print zip"
   ]
  },
  {
   "cell_type": "markdown",
   "metadata": {},
   "source": [
    "The for loop cycles through each element in the list, and then prints that element."
   ]
  },
  {
   "cell_type": "markdown",
   "metadata": {},
   "source": [
    "###6) Given the following list, add together any numbers greater than 10.\n",
    "\n",
    "`values = [20, 30 ,10, 5, 99]`"
   ]
  },
  {
   "cell_type": "code",
   "execution_count": 22,
   "metadata": {
    "collapsed": false
   },
   "outputs": [
    {
     "name": "stdout",
     "output_type": "stream",
     "text": [
      "149\n"
     ]
    }
   ],
   "source": [
    "values = [20, 30 ,10, 5, 99]\n",
    "\n",
    "big_values = []\n",
    "for number in values:\n",
    "    if number > 10:\n",
    "        big_values.append(number)\n",
    "print sum(big_values)"
   ]
  },
  {
   "cell_type": "markdown",
   "metadata": {},
   "source": [
    "Created a new list to put elements in to. The for loop cycles through each element, and the if statement tells it that numbers greater than 10 are appended to the new list. The \"sum\" function sums that new list."
   ]
  },
  {
   "cell_type": "code",
   "execution_count": null,
   "metadata": {
    "collapsed": true
   },
   "outputs": [],
   "source": []
  }
 ],
 "metadata": {
  "kernelspec": {
   "display_name": "Python 2",
   "language": "python",
   "name": "python2"
  },
  "language_info": {
   "codemirror_mode": {
    "name": "ipython",
    "version": 2
   },
   "file_extension": ".py",
   "mimetype": "text/x-python",
   "name": "python",
   "nbconvert_exporter": "python",
   "pygments_lexer": "ipython2",
   "version": "2.7.9"
  }
 },
 "nbformat": 4,
 "nbformat_minor": 0
}
